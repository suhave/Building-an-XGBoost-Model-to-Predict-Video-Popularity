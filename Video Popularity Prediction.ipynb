{
 "cells": [
  {
   "cell_type": "markdown",
   "id": "55e8d4bd",
   "metadata": {},
   "source": [
    "### The factors that determine whether a video goes viral are hard to narrow down, especially since popularity can be so subjective. What if we could use objective factors such as video metadata and thumbnails to predict how many views a video will get? This is the goal of the Video Popularity Prediction Challenge hosted on the data science competition platform Bitgrit."
   ]
  },
  {
   "cell_type": "code",
   "execution_count": 1,
   "id": "ad56725a",
   "metadata": {},
   "outputs": [],
   "source": [
    "#importing packages\n",
    "import pandas as pd\n",
    "import numpy as np\n",
    "import matplotlib.pyplot as plt\n"
   ]
  },
  {
   "cell_type": "code",
   "execution_count": 2,
   "id": "09f8bc14",
   "metadata": {},
   "outputs": [],
   "source": [
    "#Load training dataset\n",
    "desc_train=pd.read_csv('train_desc_df.csv')\n",
    "image_train=pd.read_csv('train_image_df.csv')\n",
    "meta_train=pd.read_csv('train_meta_df.csv')\n",
    "title_train=pd.read_csv('train_title_df.csv')"
   ]
  },
  {
   "cell_type": "code",
   "execution_count": 3,
   "id": "c460a3e3",
   "metadata": {},
   "outputs": [],
   "source": [
    "#load public dataset (dataset used for ranking)\n",
    "desc_test=pd.read_csv('public_desc_df.csv')\n",
    "image_test=pd.read_csv('public_image_df.csv')\n",
    "meta_test=pd.read_csv('public_meta_df.csv')\n",
    "title_test=pd.read_csv('public_title_df.csv')"
   ]
  },
  {
   "cell_type": "code",
   "execution_count": 4,
   "id": "d8e66c46",
   "metadata": {},
   "outputs": [
    {
     "name": "stdout",
     "output_type": "stream",
     "text": [
      "Dimension of train description data is (3000, 51)\n",
      "Dimension of train image data is (3000, 4001)\n",
      "Dimension of train meta data is (3000, 14)\n",
      "Dimension of train title data is (3000, 51)\n"
     ]
    }
   ],
   "source": [
    "#Dimension of training dataset\n",
    "print('Dimension of train description data is', desc_train.shape)\n",
    "print('Dimension of train image data is', image_train.shape)\n",
    "print('Dimension of train meta data is', meta_train.shape)\n",
    "print('Dimension of train title data is', title_train.shape)"
   ]
  },
  {
   "cell_type": "code",
   "execution_count": 5,
   "id": "6fc34fd4",
   "metadata": {},
   "outputs": [
    {
     "name": "stdout",
     "output_type": "stream",
     "text": [
      "Dimension of test description data is (986, 51)\n",
      "Dimension of test image data is (986, 13)\n",
      "Dimension of test meta data is (986, 13)\n",
      "Dimension of test title data is (986, 51)\n"
     ]
    }
   ],
   "source": [
    "#Dimension of test dataset\n",
    "print('Dimension of test description data is', desc_test.shape)\n",
    "print('Dimension of test image data is', meta_test.shape)\n",
    "print('Dimension of test meta data is', meta_test.shape)\n",
    "print('Dimension of test title data is', title_test.shape)"
   ]
  },
  {
   "cell_type": "markdown",
   "id": "f4c25be1",
   "metadata": {},
   "source": [
    "# Exploratory Data Analysis"
   ]
  },
  {
   "cell_type": "code",
   "execution_count": 6,
   "id": "f6a7fbf9",
   "metadata": {},
   "outputs": [
    {
     "data": {
      "text/html": [
       "<div>\n",
       "<style scoped>\n",
       "    .dataframe tbody tr th:only-of-type {\n",
       "        vertical-align: middle;\n",
       "    }\n",
       "\n",
       "    .dataframe tbody tr th {\n",
       "        vertical-align: top;\n",
       "    }\n",
       "\n",
       "    .dataframe thead th {\n",
       "        text-align: right;\n",
       "    }\n",
       "</style>\n",
       "<table border=\"1\" class=\"dataframe\">\n",
       "  <thead>\n",
       "    <tr style=\"text-align: right;\">\n",
       "      <th></th>\n",
       "      <th>comp_id</th>\n",
       "      <th>desc_1</th>\n",
       "      <th>desc_2</th>\n",
       "      <th>desc_3</th>\n",
       "      <th>desc_4</th>\n",
       "      <th>desc_5</th>\n",
       "      <th>desc_6</th>\n",
       "      <th>desc_7</th>\n",
       "      <th>desc_8</th>\n",
       "      <th>desc_9</th>\n",
       "      <th>...</th>\n",
       "      <th>desc_41</th>\n",
       "      <th>desc_42</th>\n",
       "      <th>desc_43</th>\n",
       "      <th>desc_44</th>\n",
       "      <th>desc_45</th>\n",
       "      <th>desc_46</th>\n",
       "      <th>desc_47</th>\n",
       "      <th>desc_48</th>\n",
       "      <th>desc_49</th>\n",
       "      <th>desc_50</th>\n",
       "    </tr>\n",
       "  </thead>\n",
       "  <tbody>\n",
       "    <tr>\n",
       "      <th>0</th>\n",
       "      <td>1</td>\n",
       "      <td>-0.009555</td>\n",
       "      <td>0.002479</td>\n",
       "      <td>0.002927</td>\n",
       "      <td>0.015774</td>\n",
       "      <td>-0.008177</td>\n",
       "      <td>-0.016036</td>\n",
       "      <td>0.026697</td>\n",
       "      <td>-0.000106</td>\n",
       "      <td>0.025788</td>\n",
       "      <td>...</td>\n",
       "      <td>-0.029430</td>\n",
       "      <td>-0.029423</td>\n",
       "      <td>0.052256</td>\n",
       "      <td>0.007814</td>\n",
       "      <td>0.023472</td>\n",
       "      <td>-0.021134</td>\n",
       "      <td>0.003324</td>\n",
       "      <td>-0.004393</td>\n",
       "      <td>0.004294</td>\n",
       "      <td>-0.002223</td>\n",
       "    </tr>\n",
       "    <tr>\n",
       "      <th>1</th>\n",
       "      <td>2</td>\n",
       "      <td>-0.009555</td>\n",
       "      <td>0.002479</td>\n",
       "      <td>0.002927</td>\n",
       "      <td>0.015774</td>\n",
       "      <td>-0.008177</td>\n",
       "      <td>-0.016036</td>\n",
       "      <td>0.026697</td>\n",
       "      <td>-0.000106</td>\n",
       "      <td>0.025788</td>\n",
       "      <td>...</td>\n",
       "      <td>-0.029430</td>\n",
       "      <td>-0.029423</td>\n",
       "      <td>0.052256</td>\n",
       "      <td>0.007814</td>\n",
       "      <td>0.023472</td>\n",
       "      <td>-0.021134</td>\n",
       "      <td>0.003324</td>\n",
       "      <td>-0.004393</td>\n",
       "      <td>0.004294</td>\n",
       "      <td>-0.002223</td>\n",
       "    </tr>\n",
       "    <tr>\n",
       "      <th>2</th>\n",
       "      <td>3</td>\n",
       "      <td>-0.356706</td>\n",
       "      <td>0.213562</td>\n",
       "      <td>0.252663</td>\n",
       "      <td>0.090735</td>\n",
       "      <td>0.328961</td>\n",
       "      <td>-0.482705</td>\n",
       "      <td>0.067300</td>\n",
       "      <td>0.384217</td>\n",
       "      <td>-0.147253</td>\n",
       "      <td>...</td>\n",
       "      <td>-0.626436</td>\n",
       "      <td>-0.102908</td>\n",
       "      <td>0.576792</td>\n",
       "      <td>-0.805986</td>\n",
       "      <td>0.310637</td>\n",
       "      <td>0.422263</td>\n",
       "      <td>0.403496</td>\n",
       "      <td>0.264240</td>\n",
       "      <td>7.057590</td>\n",
       "      <td>-0.252417</td>\n",
       "    </tr>\n",
       "    <tr>\n",
       "      <th>3</th>\n",
       "      <td>4</td>\n",
       "      <td>-0.294013</td>\n",
       "      <td>0.165262</td>\n",
       "      <td>0.257102</td>\n",
       "      <td>0.421037</td>\n",
       "      <td>0.463214</td>\n",
       "      <td>-0.769155</td>\n",
       "      <td>0.159450</td>\n",
       "      <td>0.236385</td>\n",
       "      <td>-0.183974</td>\n",
       "      <td>...</td>\n",
       "      <td>-0.435836</td>\n",
       "      <td>0.052975</td>\n",
       "      <td>0.108777</td>\n",
       "      <td>-0.599593</td>\n",
       "      <td>0.408430</td>\n",
       "      <td>0.591615</td>\n",
       "      <td>0.415667</td>\n",
       "      <td>0.334706</td>\n",
       "      <td>7.025648</td>\n",
       "      <td>-0.309093</td>\n",
       "    </tr>\n",
       "    <tr>\n",
       "      <th>4</th>\n",
       "      <td>5</td>\n",
       "      <td>-0.028657</td>\n",
       "      <td>0.157017</td>\n",
       "      <td>0.282709</td>\n",
       "      <td>-2.674227</td>\n",
       "      <td>-0.711383</td>\n",
       "      <td>2.259387</td>\n",
       "      <td>-0.162175</td>\n",
       "      <td>0.605468</td>\n",
       "      <td>0.712229</td>\n",
       "      <td>...</td>\n",
       "      <td>-1.714496</td>\n",
       "      <td>0.297421</td>\n",
       "      <td>-0.097744</td>\n",
       "      <td>0.000669</td>\n",
       "      <td>-1.639307</td>\n",
       "      <td>0.244313</td>\n",
       "      <td>0.099975</td>\n",
       "      <td>0.371806</td>\n",
       "      <td>-2.259024</td>\n",
       "      <td>-0.131085</td>\n",
       "    </tr>\n",
       "  </tbody>\n",
       "</table>\n",
       "<p>5 rows × 51 columns</p>\n",
       "</div>"
      ],
      "text/plain": [
       "   comp_id    desc_1    desc_2    desc_3    desc_4    desc_5    desc_6  \\\n",
       "0        1 -0.009555  0.002479  0.002927  0.015774 -0.008177 -0.016036   \n",
       "1        2 -0.009555  0.002479  0.002927  0.015774 -0.008177 -0.016036   \n",
       "2        3 -0.356706  0.213562  0.252663  0.090735  0.328961 -0.482705   \n",
       "3        4 -0.294013  0.165262  0.257102  0.421037  0.463214 -0.769155   \n",
       "4        5 -0.028657  0.157017  0.282709 -2.674227 -0.711383  2.259387   \n",
       "\n",
       "     desc_7    desc_8    desc_9  ...   desc_41   desc_42   desc_43   desc_44  \\\n",
       "0  0.026697 -0.000106  0.025788  ... -0.029430 -0.029423  0.052256  0.007814   \n",
       "1  0.026697 -0.000106  0.025788  ... -0.029430 -0.029423  0.052256  0.007814   \n",
       "2  0.067300  0.384217 -0.147253  ... -0.626436 -0.102908  0.576792 -0.805986   \n",
       "3  0.159450  0.236385 -0.183974  ... -0.435836  0.052975  0.108777 -0.599593   \n",
       "4 -0.162175  0.605468  0.712229  ... -1.714496  0.297421 -0.097744  0.000669   \n",
       "\n",
       "    desc_45   desc_46   desc_47   desc_48   desc_49   desc_50  \n",
       "0  0.023472 -0.021134  0.003324 -0.004393  0.004294 -0.002223  \n",
       "1  0.023472 -0.021134  0.003324 -0.004393  0.004294 -0.002223  \n",
       "2  0.310637  0.422263  0.403496  0.264240  7.057590 -0.252417  \n",
       "3  0.408430  0.591615  0.415667  0.334706  7.025648 -0.309093  \n",
       "4 -1.639307  0.244313  0.099975  0.371806 -2.259024 -0.131085  \n",
       "\n",
       "[5 rows x 51 columns]"
      ]
     },
     "execution_count": 6,
     "metadata": {},
     "output_type": "execute_result"
    }
   ],
   "source": [
    "#Description Data\n",
    "#Each column represents one coordinate in a 50-dimension space. While we cannot visualize this data, it’s important to know that vectors with similar values means that the original text was also similar.\n",
    "desc_train.head()"
   ]
  },
  {
   "cell_type": "code",
   "execution_count": 7,
   "id": "e7a285b8",
   "metadata": {},
   "outputs": [
    {
     "data": {
      "text/html": [
       "<div>\n",
       "<style scoped>\n",
       "    .dataframe tbody tr th:only-of-type {\n",
       "        vertical-align: middle;\n",
       "    }\n",
       "\n",
       "    .dataframe tbody tr th {\n",
       "        vertical-align: top;\n",
       "    }\n",
       "\n",
       "    .dataframe thead th {\n",
       "        text-align: right;\n",
       "    }\n",
       "</style>\n",
       "<table border=\"1\" class=\"dataframe\">\n",
       "  <thead>\n",
       "    <tr style=\"text-align: right;\">\n",
       "      <th></th>\n",
       "      <th>comp_id</th>\n",
       "      <th>image_1</th>\n",
       "      <th>image_2</th>\n",
       "      <th>image_3</th>\n",
       "      <th>image_4</th>\n",
       "      <th>image_5</th>\n",
       "      <th>image_6</th>\n",
       "      <th>image_7</th>\n",
       "      <th>image_8</th>\n",
       "      <th>image_9</th>\n",
       "      <th>...</th>\n",
       "      <th>image_3991</th>\n",
       "      <th>image_3992</th>\n",
       "      <th>image_3993</th>\n",
       "      <th>image_3994</th>\n",
       "      <th>image_3995</th>\n",
       "      <th>image_3996</th>\n",
       "      <th>image_3997</th>\n",
       "      <th>image_3998</th>\n",
       "      <th>image_3999</th>\n",
       "      <th>image_4000</th>\n",
       "    </tr>\n",
       "  </thead>\n",
       "  <tbody>\n",
       "    <tr>\n",
       "      <th>0</th>\n",
       "      <td>1</td>\n",
       "      <td>0.484456</td>\n",
       "      <td>0.036087</td>\n",
       "      <td>-0.149328</td>\n",
       "      <td>0.144475</td>\n",
       "      <td>-0.617386</td>\n",
       "      <td>0.035018</td>\n",
       "      <td>0.169174</td>\n",
       "      <td>-0.005733</td>\n",
       "      <td>-0.104908</td>\n",
       "      <td>...</td>\n",
       "      <td>-0.090408</td>\n",
       "      <td>-0.032915</td>\n",
       "      <td>-0.010857</td>\n",
       "      <td>-0.015954</td>\n",
       "      <td>0.123416</td>\n",
       "      <td>0.195833</td>\n",
       "      <td>-0.066449</td>\n",
       "      <td>0.115818</td>\n",
       "      <td>-0.005140</td>\n",
       "      <td>0.017278</td>\n",
       "    </tr>\n",
       "    <tr>\n",
       "      <th>1</th>\n",
       "      <td>2</td>\n",
       "      <td>0.074533</td>\n",
       "      <td>-0.015655</td>\n",
       "      <td>-0.016286</td>\n",
       "      <td>-0.480964</td>\n",
       "      <td>0.687917</td>\n",
       "      <td>0.037131</td>\n",
       "      <td>-0.149725</td>\n",
       "      <td>-0.002098</td>\n",
       "      <td>0.099383</td>\n",
       "      <td>...</td>\n",
       "      <td>-0.625816</td>\n",
       "      <td>-0.009616</td>\n",
       "      <td>0.004558</td>\n",
       "      <td>0.008310</td>\n",
       "      <td>-0.173496</td>\n",
       "      <td>0.133518</td>\n",
       "      <td>-0.488898</td>\n",
       "      <td>0.084832</td>\n",
       "      <td>0.146566</td>\n",
       "      <td>0.007997</td>\n",
       "    </tr>\n",
       "    <tr>\n",
       "      <th>2</th>\n",
       "      <td>3</td>\n",
       "      <td>-0.396809</td>\n",
       "      <td>0.021490</td>\n",
       "      <td>-1.723037</td>\n",
       "      <td>0.666147</td>\n",
       "      <td>-0.631924</td>\n",
       "      <td>0.047724</td>\n",
       "      <td>0.336041</td>\n",
       "      <td>-0.003904</td>\n",
       "      <td>0.039683</td>\n",
       "      <td>...</td>\n",
       "      <td>-0.078059</td>\n",
       "      <td>0.086320</td>\n",
       "      <td>-0.005606</td>\n",
       "      <td>0.002414</td>\n",
       "      <td>-0.164493</td>\n",
       "      <td>0.218473</td>\n",
       "      <td>0.151292</td>\n",
       "      <td>-0.076860</td>\n",
       "      <td>0.008321</td>\n",
       "      <td>0.012555</td>\n",
       "    </tr>\n",
       "    <tr>\n",
       "      <th>3</th>\n",
       "      <td>4</td>\n",
       "      <td>0.995316</td>\n",
       "      <td>0.012766</td>\n",
       "      <td>0.387472</td>\n",
       "      <td>-0.684791</td>\n",
       "      <td>-0.209261</td>\n",
       "      <td>0.013654</td>\n",
       "      <td>0.138517</td>\n",
       "      <td>0.005586</td>\n",
       "      <td>0.079277</td>\n",
       "      <td>...</td>\n",
       "      <td>-0.190714</td>\n",
       "      <td>-0.005452</td>\n",
       "      <td>-0.003889</td>\n",
       "      <td>0.013430</td>\n",
       "      <td>0.344406</td>\n",
       "      <td>0.038220</td>\n",
       "      <td>0.210446</td>\n",
       "      <td>-0.145128</td>\n",
       "      <td>-0.019172</td>\n",
       "      <td>0.000532</td>\n",
       "    </tr>\n",
       "    <tr>\n",
       "      <th>4</th>\n",
       "      <td>5</td>\n",
       "      <td>-0.611648</td>\n",
       "      <td>0.000860</td>\n",
       "      <td>-0.572393</td>\n",
       "      <td>0.894287</td>\n",
       "      <td>-0.191228</td>\n",
       "      <td>-0.111583</td>\n",
       "      <td>-0.011111</td>\n",
       "      <td>0.003231</td>\n",
       "      <td>-0.160582</td>\n",
       "      <td>...</td>\n",
       "      <td>-0.040437</td>\n",
       "      <td>-0.142134</td>\n",
       "      <td>-0.022771</td>\n",
       "      <td>-0.013134</td>\n",
       "      <td>-0.024869</td>\n",
       "      <td>0.125129</td>\n",
       "      <td>0.215967</td>\n",
       "      <td>0.005288</td>\n",
       "      <td>0.145715</td>\n",
       "      <td>0.001425</td>\n",
       "    </tr>\n",
       "  </tbody>\n",
       "</table>\n",
       "<p>5 rows × 4001 columns</p>\n",
       "</div>"
      ],
      "text/plain": [
       "   comp_id   image_1   image_2   image_3   image_4   image_5   image_6  \\\n",
       "0        1  0.484456  0.036087 -0.149328  0.144475 -0.617386  0.035018   \n",
       "1        2  0.074533 -0.015655 -0.016286 -0.480964  0.687917  0.037131   \n",
       "2        3 -0.396809  0.021490 -1.723037  0.666147 -0.631924  0.047724   \n",
       "3        4  0.995316  0.012766  0.387472 -0.684791 -0.209261  0.013654   \n",
       "4        5 -0.611648  0.000860 -0.572393  0.894287 -0.191228 -0.111583   \n",
       "\n",
       "    image_7   image_8   image_9  ...  image_3991  image_3992  image_3993  \\\n",
       "0  0.169174 -0.005733 -0.104908  ...   -0.090408   -0.032915   -0.010857   \n",
       "1 -0.149725 -0.002098  0.099383  ...   -0.625816   -0.009616    0.004558   \n",
       "2  0.336041 -0.003904  0.039683  ...   -0.078059    0.086320   -0.005606   \n",
       "3  0.138517  0.005586  0.079277  ...   -0.190714   -0.005452   -0.003889   \n",
       "4 -0.011111  0.003231 -0.160582  ...   -0.040437   -0.142134   -0.022771   \n",
       "\n",
       "   image_3994  image_3995  image_3996  image_3997  image_3998  image_3999  \\\n",
       "0   -0.015954    0.123416    0.195833   -0.066449    0.115818   -0.005140   \n",
       "1    0.008310   -0.173496    0.133518   -0.488898    0.084832    0.146566   \n",
       "2    0.002414   -0.164493    0.218473    0.151292   -0.076860    0.008321   \n",
       "3    0.013430    0.344406    0.038220    0.210446   -0.145128   -0.019172   \n",
       "4   -0.013134   -0.024869    0.125129    0.215967    0.005288    0.145715   \n",
       "\n",
       "   image_4000  \n",
       "0    0.017278  \n",
       "1    0.007997  \n",
       "2    0.012555  \n",
       "3    0.000532  \n",
       "4    0.001425  \n",
       "\n",
       "[5 rows x 4001 columns]"
      ]
     },
     "execution_count": 7,
     "metadata": {},
     "output_type": "execute_result"
    }
   ],
   "source": [
    "#Image data\n",
    "#image data is normalized within a range from -1 to 1\n",
    "image_train.head()"
   ]
  },
  {
   "cell_type": "code",
   "execution_count": 8,
   "id": "af07fbad",
   "metadata": {
    "scrolled": true
   },
   "outputs": [
    {
     "data": {
      "text/html": [
       "<div>\n",
       "<style scoped>\n",
       "    .dataframe tbody tr th:only-of-type {\n",
       "        vertical-align: middle;\n",
       "    }\n",
       "\n",
       "    .dataframe tbody tr th {\n",
       "        vertical-align: top;\n",
       "    }\n",
       "\n",
       "    .dataframe thead th {\n",
       "        text-align: right;\n",
       "    }\n",
       "</style>\n",
       "<table border=\"1\" class=\"dataframe\">\n",
       "  <thead>\n",
       "    <tr style=\"text-align: right;\">\n",
       "      <th></th>\n",
       "      <th>comp_id</th>\n",
       "      <th>ad_blocked</th>\n",
       "      <th>embed</th>\n",
       "      <th>ratio</th>\n",
       "      <th>duration</th>\n",
       "      <th>language</th>\n",
       "      <th>partner</th>\n",
       "      <th>partner_active</th>\n",
       "      <th>n_likes</th>\n",
       "      <th>views</th>\n",
       "      <th>n_tags</th>\n",
       "      <th>n_formats</th>\n",
       "      <th>dayofweek</th>\n",
       "      <th>hour</th>\n",
       "    </tr>\n",
       "  </thead>\n",
       "  <tbody>\n",
       "    <tr>\n",
       "      <th>0</th>\n",
       "      <td>1</td>\n",
       "      <td>False</td>\n",
       "      <td>True</td>\n",
       "      <td>1.77778</td>\n",
       "      <td>86</td>\n",
       "      <td>3</td>\n",
       "      <td>True</td>\n",
       "      <td>False</td>\n",
       "      <td>0</td>\n",
       "      <td>290</td>\n",
       "      <td>3</td>\n",
       "      <td>0</td>\n",
       "      <td>5</td>\n",
       "      <td>6</td>\n",
       "    </tr>\n",
       "    <tr>\n",
       "      <th>1</th>\n",
       "      <td>2</td>\n",
       "      <td>False</td>\n",
       "      <td>True</td>\n",
       "      <td>1.33333</td>\n",
       "      <td>1129</td>\n",
       "      <td>2</td>\n",
       "      <td>True</td>\n",
       "      <td>False</td>\n",
       "      <td>0</td>\n",
       "      <td>1443</td>\n",
       "      <td>0</td>\n",
       "      <td>2</td>\n",
       "      <td>5</td>\n",
       "      <td>6</td>\n",
       "    </tr>\n",
       "    <tr>\n",
       "      <th>2</th>\n",
       "      <td>3</td>\n",
       "      <td>False</td>\n",
       "      <td>True</td>\n",
       "      <td>1.76667</td>\n",
       "      <td>1163</td>\n",
       "      <td>2</td>\n",
       "      <td>True</td>\n",
       "      <td>False</td>\n",
       "      <td>0</td>\n",
       "      <td>329</td>\n",
       "      <td>0</td>\n",
       "      <td>1</td>\n",
       "      <td>5</td>\n",
       "      <td>6</td>\n",
       "    </tr>\n",
       "    <tr>\n",
       "      <th>3</th>\n",
       "      <td>4</td>\n",
       "      <td>False</td>\n",
       "      <td>True</td>\n",
       "      <td>1.77778</td>\n",
       "      <td>1326</td>\n",
       "      <td>2</td>\n",
       "      <td>True</td>\n",
       "      <td>False</td>\n",
       "      <td>0</td>\n",
       "      <td>63</td>\n",
       "      <td>0</td>\n",
       "      <td>3</td>\n",
       "      <td>5</td>\n",
       "      <td>6</td>\n",
       "    </tr>\n",
       "    <tr>\n",
       "      <th>4</th>\n",
       "      <td>5</td>\n",
       "      <td>False</td>\n",
       "      <td>True</td>\n",
       "      <td>1.77273</td>\n",
       "      <td>2612</td>\n",
       "      <td>2</td>\n",
       "      <td>True</td>\n",
       "      <td>False</td>\n",
       "      <td>3</td>\n",
       "      <td>37</td>\n",
       "      <td>0</td>\n",
       "      <td>0</td>\n",
       "      <td>5</td>\n",
       "      <td>6</td>\n",
       "    </tr>\n",
       "  </tbody>\n",
       "</table>\n",
       "</div>"
      ],
      "text/plain": [
       "   comp_id  ad_blocked  embed    ratio  duration  language  partner  \\\n",
       "0        1       False   True  1.77778        86         3     True   \n",
       "1        2       False   True  1.33333      1129         2     True   \n",
       "2        3       False   True  1.76667      1163         2     True   \n",
       "3        4       False   True  1.77778      1326         2     True   \n",
       "4        5       False   True  1.77273      2612         2     True   \n",
       "\n",
       "   partner_active  n_likes  views  n_tags  n_formats  dayofweek  hour  \n",
       "0           False        0    290       3          0          5     6  \n",
       "1           False        0   1443       0          2          5     6  \n",
       "2           False        0    329       0          1          5     6  \n",
       "3           False        0     63       0          3          5     6  \n",
       "4           False        3     37       0          0          5     6  "
      ]
     },
     "execution_count": 8,
     "metadata": {},
     "output_type": "execute_result"
    }
   ],
   "source": [
    "#Meta Data\n",
    "#views is the column we want to predict but views are not provided for our meta_test data\n",
    "meta_train.head()"
   ]
  },
  {
   "cell_type": "code",
   "execution_count": 9,
   "id": "b9bc5ba6",
   "metadata": {},
   "outputs": [
    {
     "data": {
      "text/plain": [
       "Index(['comp_id', 'ad_blocked', 'embed', 'ratio', 'duration', 'language',\n",
       "       'partner', 'partner_active', 'n_likes', 'n_tags', 'n_formats',\n",
       "       'dayofweek', 'hour'],\n",
       "      dtype='object')"
      ]
     },
     "execution_count": 9,
     "metadata": {},
     "output_type": "execute_result"
    }
   ],
   "source": [
    "meta_test.columns"
   ]
  },
  {
   "cell_type": "code",
   "execution_count": 10,
   "id": "74766bbd",
   "metadata": {},
   "outputs": [
    {
     "data": {
      "text/html": [
       "<div>\n",
       "<style scoped>\n",
       "    .dataframe tbody tr th:only-of-type {\n",
       "        vertical-align: middle;\n",
       "    }\n",
       "\n",
       "    .dataframe tbody tr th {\n",
       "        vertical-align: top;\n",
       "    }\n",
       "\n",
       "    .dataframe thead th {\n",
       "        text-align: right;\n",
       "    }\n",
       "</style>\n",
       "<table border=\"1\" class=\"dataframe\">\n",
       "  <thead>\n",
       "    <tr style=\"text-align: right;\">\n",
       "      <th></th>\n",
       "      <th>comp_id</th>\n",
       "      <th>title_1</th>\n",
       "      <th>title_2</th>\n",
       "      <th>title_3</th>\n",
       "      <th>title_4</th>\n",
       "      <th>title_5</th>\n",
       "      <th>title_6</th>\n",
       "      <th>title_7</th>\n",
       "      <th>title_8</th>\n",
       "      <th>title_9</th>\n",
       "      <th>...</th>\n",
       "      <th>title_41</th>\n",
       "      <th>title_42</th>\n",
       "      <th>title_43</th>\n",
       "      <th>title_44</th>\n",
       "      <th>title_45</th>\n",
       "      <th>title_46</th>\n",
       "      <th>title_47</th>\n",
       "      <th>title_48</th>\n",
       "      <th>title_49</th>\n",
       "      <th>title_50</th>\n",
       "    </tr>\n",
       "  </thead>\n",
       "  <tbody>\n",
       "    <tr>\n",
       "      <th>0</th>\n",
       "      <td>1</td>\n",
       "      <td>-0.977637</td>\n",
       "      <td>-0.543310</td>\n",
       "      <td>0.079403</td>\n",
       "      <td>0.205560</td>\n",
       "      <td>-1.497104</td>\n",
       "      <td>0.230466</td>\n",
       "      <td>0.566112</td>\n",
       "      <td>-0.662264</td>\n",
       "      <td>0.130342</td>\n",
       "      <td>...</td>\n",
       "      <td>0.059434</td>\n",
       "      <td>-0.272340</td>\n",
       "      <td>-0.030180</td>\n",
       "      <td>-0.109040</td>\n",
       "      <td>-0.033425</td>\n",
       "      <td>0.728739</td>\n",
       "      <td>0.142030</td>\n",
       "      <td>0.397541</td>\n",
       "      <td>1.270722</td>\n",
       "      <td>-0.816523</td>\n",
       "    </tr>\n",
       "    <tr>\n",
       "      <th>1</th>\n",
       "      <td>2</td>\n",
       "      <td>0.041873</td>\n",
       "      <td>0.644655</td>\n",
       "      <td>0.140869</td>\n",
       "      <td>-0.664714</td>\n",
       "      <td>-0.062992</td>\n",
       "      <td>0.240086</td>\n",
       "      <td>-1.017593</td>\n",
       "      <td>1.019706</td>\n",
       "      <td>0.340133</td>\n",
       "      <td>...</td>\n",
       "      <td>0.242961</td>\n",
       "      <td>-0.404538</td>\n",
       "      <td>0.335224</td>\n",
       "      <td>-0.158068</td>\n",
       "      <td>-0.178225</td>\n",
       "      <td>0.351125</td>\n",
       "      <td>0.959121</td>\n",
       "      <td>0.673848</td>\n",
       "      <td>-0.530106</td>\n",
       "      <td>0.133466</td>\n",
       "    </tr>\n",
       "    <tr>\n",
       "      <th>2</th>\n",
       "      <td>3</td>\n",
       "      <td>-0.905595</td>\n",
       "      <td>0.097928</td>\n",
       "      <td>0.111981</td>\n",
       "      <td>-0.064753</td>\n",
       "      <td>-1.566516</td>\n",
       "      <td>0.140807</td>\n",
       "      <td>-0.946588</td>\n",
       "      <td>-0.342442</td>\n",
       "      <td>0.031226</td>\n",
       "      <td>...</td>\n",
       "      <td>0.414191</td>\n",
       "      <td>-0.457968</td>\n",
       "      <td>0.157185</td>\n",
       "      <td>-0.116985</td>\n",
       "      <td>0.404937</td>\n",
       "      <td>-0.220503</td>\n",
       "      <td>0.443171</td>\n",
       "      <td>0.643445</td>\n",
       "      <td>0.357957</td>\n",
       "      <td>0.525154</td>\n",
       "    </tr>\n",
       "    <tr>\n",
       "      <th>3</th>\n",
       "      <td>4</td>\n",
       "      <td>0.069220</td>\n",
       "      <td>0.411544</td>\n",
       "      <td>0.177700</td>\n",
       "      <td>-0.739998</td>\n",
       "      <td>-0.932620</td>\n",
       "      <td>-0.717982</td>\n",
       "      <td>-0.406487</td>\n",
       "      <td>-0.267096</td>\n",
       "      <td>0.114066</td>\n",
       "      <td>...</td>\n",
       "      <td>0.211731</td>\n",
       "      <td>-0.812590</td>\n",
       "      <td>0.258014</td>\n",
       "      <td>-0.180143</td>\n",
       "      <td>-0.564691</td>\n",
       "      <td>-0.515378</td>\n",
       "      <td>0.613686</td>\n",
       "      <td>0.817547</td>\n",
       "      <td>0.325042</td>\n",
       "      <td>0.254415</td>\n",
       "    </tr>\n",
       "    <tr>\n",
       "      <th>4</th>\n",
       "      <td>5</td>\n",
       "      <td>0.503560</td>\n",
       "      <td>-0.210970</td>\n",
       "      <td>-0.085412</td>\n",
       "      <td>0.549240</td>\n",
       "      <td>-0.019521</td>\n",
       "      <td>-0.255597</td>\n",
       "      <td>0.841144</td>\n",
       "      <td>0.250485</td>\n",
       "      <td>0.224235</td>\n",
       "      <td>...</td>\n",
       "      <td>-0.517912</td>\n",
       "      <td>0.543584</td>\n",
       "      <td>0.492052</td>\n",
       "      <td>-0.204867</td>\n",
       "      <td>-0.011538</td>\n",
       "      <td>-0.328607</td>\n",
       "      <td>-0.150055</td>\n",
       "      <td>-0.992373</td>\n",
       "      <td>-0.266003</td>\n",
       "      <td>-0.037134</td>\n",
       "    </tr>\n",
       "  </tbody>\n",
       "</table>\n",
       "<p>5 rows × 51 columns</p>\n",
       "</div>"
      ],
      "text/plain": [
       "   comp_id   title_1   title_2   title_3   title_4   title_5   title_6  \\\n",
       "0        1 -0.977637 -0.543310  0.079403  0.205560 -1.497104  0.230466   \n",
       "1        2  0.041873  0.644655  0.140869 -0.664714 -0.062992  0.240086   \n",
       "2        3 -0.905595  0.097928  0.111981 -0.064753 -1.566516  0.140807   \n",
       "3        4  0.069220  0.411544  0.177700 -0.739998 -0.932620 -0.717982   \n",
       "4        5  0.503560 -0.210970 -0.085412  0.549240 -0.019521 -0.255597   \n",
       "\n",
       "    title_7   title_8   title_9  ...  title_41  title_42  title_43  title_44  \\\n",
       "0  0.566112 -0.662264  0.130342  ...  0.059434 -0.272340 -0.030180 -0.109040   \n",
       "1 -1.017593  1.019706  0.340133  ...  0.242961 -0.404538  0.335224 -0.158068   \n",
       "2 -0.946588 -0.342442  0.031226  ...  0.414191 -0.457968  0.157185 -0.116985   \n",
       "3 -0.406487 -0.267096  0.114066  ...  0.211731 -0.812590  0.258014 -0.180143   \n",
       "4  0.841144  0.250485  0.224235  ... -0.517912  0.543584  0.492052 -0.204867   \n",
       "\n",
       "   title_45  title_46  title_47  title_48  title_49  title_50  \n",
       "0 -0.033425  0.728739  0.142030  0.397541  1.270722 -0.816523  \n",
       "1 -0.178225  0.351125  0.959121  0.673848 -0.530106  0.133466  \n",
       "2  0.404937 -0.220503  0.443171  0.643445  0.357957  0.525154  \n",
       "3 -0.564691 -0.515378  0.613686  0.817547  0.325042  0.254415  \n",
       "4 -0.011538 -0.328607 -0.150055 -0.992373 -0.266003 -0.037134  \n",
       "\n",
       "[5 rows x 51 columns]"
      ]
     },
     "execution_count": 10,
     "metadata": {},
     "output_type": "execute_result"
    }
   ],
   "source": [
    "#Title Data\n",
    "#similar pattern\n",
    "title_train.head()"
   ]
  },
  {
   "cell_type": "code",
   "execution_count": 11,
   "id": "4a002f6a",
   "metadata": {},
   "outputs": [
    {
     "data": {
      "text/plain": [
       "comp_id           0\n",
       "ad_blocked        0\n",
       "embed             0\n",
       "ratio             0\n",
       "duration          0\n",
       "language          0\n",
       "partner           0\n",
       "partner_active    0\n",
       "n_likes           0\n",
       "views             0\n",
       "n_tags            0\n",
       "n_formats         0\n",
       "dayofweek         0\n",
       "hour              0\n",
       "dtype: int64"
      ]
     },
     "execution_count": 11,
     "metadata": {},
     "output_type": "execute_result"
    }
   ],
   "source": [
    "#checking null values in metadata\n",
    "meta_train.isnull().sum()"
   ]
  },
  {
   "cell_type": "code",
   "execution_count": 12,
   "id": "7fe24a13",
   "metadata": {},
   "outputs": [
    {
     "data": {
      "text/plain": [
       "comp_id             int64\n",
       "ad_blocked           bool\n",
       "embed                bool\n",
       "ratio             float64\n",
       "duration            int64\n",
       "language            int64\n",
       "partner              bool\n",
       "partner_active       bool\n",
       "n_likes             int64\n",
       "views               int64\n",
       "n_tags              int64\n",
       "n_formats           int64\n",
       "dayofweek           int64\n",
       "hour                int64\n",
       "dtype: object"
      ]
     },
     "execution_count": 12,
     "metadata": {},
     "output_type": "execute_result"
    }
   ],
   "source": [
    "#some of our columns are categorical data, which means we have to convert them into dummy variables with one-hot encoding.\n",
    "meta_train.dtypes"
   ]
  },
  {
   "cell_type": "markdown",
   "id": "59221cfc",
   "metadata": {},
   "source": [
    "### Plotting"
   ]
  },
  {
   "cell_type": "code",
   "execution_count": 13,
   "id": "992f4019",
   "metadata": {},
   "outputs": [
    {
     "data": {
      "image/png": "[encoded data removed]",
      "text/plain": [
       "<Figure size 432x288 with 1 Axes>"
      ]
     },
     "metadata": {
      "needs_background": "light"
     },
     "output_type": "display_data"
    }
   ],
   "source": [
    "#Distribution of hour column, which represents when the video was uploaded to the hosting platform\n",
    "#there’s a spike in our hours data at around 5am. Since the video platform has creators uploading in many time zones, this might not represent the time for their time zone, but it’s still useful information.\n",
    "x=meta_train['hour']\n",
    "plt.hist(x,bins=24)\n",
    "plt.xlabel('Hour')\n",
    "plt.title('Histogram of hour data')\n",
    "plt.show()"
   ]
  },
  {
   "cell_type": "code",
   "execution_count": 14,
   "id": "e960666a",
   "metadata": {},
   "outputs": [
    {
     "data": {
      "image/png": "[encoded data removed]",
      "text/plain": [
       "<Figure size 432x288 with 1 Axes>"
      ]
     },
     "metadata": {
      "needs_background": "light"
     },
     "output_type": "display_data"
    }
   ],
   "source": [
    "#Distribution of dayoftheweek column, which will tell which day of the week the video was uploaded.\n",
    "#no data for Friday\n",
    "#most video uploads are on Monday and Saturday.\n",
    "x=meta_train['dayofweek']\n",
    "plt.hist(x,bins=7)\n",
    "plt.xlabel('day of week')\n",
    "plt.title('Histogram representing dayofweek data')\n",
    "plt.show()"
   ]
  },
  {
   "cell_type": "code",
   "execution_count": 15,
   "id": "c27bc5e9",
   "metadata": {},
   "outputs": [
    {
     "data": {
      "image/png": "[encoded data removed]",
      "text/plain": [
       "<Figure size 432x288 with 1 Axes>"
      ]
     },
     "metadata": {
      "needs_background": "light"
     },
     "output_type": "display_data"
    }
   ],
   "source": [
    "# the distribution is right-skewed, with the most frequent views being around 10² (or 100), and the least frequent views around 10⁴ (or 10,000).\n",
    "x=np.log10(meta_train['views'])   #log distribution\n",
    "plt.hist(x,bins=20)\n",
    "plt.xlabel('Logrithmic distribution histogram for views')\n",
    "plt.show()"
   ]
  },
  {
   "cell_type": "code",
   "execution_count": 16,
   "id": "e6cdab07",
   "metadata": {},
   "outputs": [
    {
     "name": "stderr",
     "output_type": "stream",
     "text": [
      "c:\\users\\sohaib mallick\\appdata\\local\\programs\\python\\python39\\lib\\site-packages\\pandas\\core\\arraylike.py:364: RuntimeWarning: divide by zero encountered in log10\n",
      "  result = getattr(ufunc, method)(*inputs, **kwargs)\n"
     ]
    },
    {
     "data": {
      "image/png": "[encoded data removed]",
      "text/plain": [
       "<Figure size 432x288 with 1 Axes>"
      ]
     },
     "metadata": {
      "needs_background": "light"
     },
     "output_type": "display_data"
    }
   ],
   "source": [
    "#duration column has some zero values, applying log transformation would produce -inf values. Therefore,replace them with zero values in order to plot a log version of plot.\n",
    "# duration is mostly 10² seconds, which represents around a 2-minute long video.\n",
    "duration_log=np.log10(meta_train['duration']).replace(-np.inf,0)\n",
    "plt.hist(duration_log,bins=20)\n",
    "plt.show()"
   ]
  },
  {
   "cell_type": "markdown",
   "id": "7d44353f",
   "metadata": {},
   "source": [
    "### value counts"
   ]
  },
  {
   "cell_type": "code",
   "execution_count": 17,
   "id": "ae18fb84",
   "metadata": {},
   "outputs": [
    {
     "data": {
      "text/plain": [
       "False    2980\n",
       "True       20\n",
       "Name: ad_blocked, dtype: int64"
      ]
     },
     "execution_count": 17,
     "metadata": {},
     "output_type": "execute_result"
    }
   ],
   "source": [
    "# Most of the videos are not ad blocked\n",
    "meta_train['ad_blocked'].value_counts()"
   ]
  },
  {
   "cell_type": "code",
   "execution_count": 18,
   "id": "9b707e6c",
   "metadata": {},
   "outputs": [
    {
     "data": {
      "text/plain": [
       "True     2982\n",
       "False      18\n",
       "Name: embed, dtype: int64"
      ]
     },
     "execution_count": 18,
     "metadata": {},
     "output_type": "execute_result"
    }
   ],
   "source": [
    "# most of the videos are embedded( Embedding refers to the integration of links, images, videos, gifs and other content into social media posts or other web media. Embedded content appears as part of a post and supplies a visual element that encourages increased click through and engagement.)\n",
    "meta_train['embed'].value_counts()"
   ]
  },
  {
   "cell_type": "markdown",
   "id": "5c128321",
   "metadata": {},
   "source": [
    "### Cross_tabulation"
   ]
  },
  {
   "cell_type": "code",
   "execution_count": 19,
   "id": "fc018d5b",
   "metadata": {},
   "outputs": [],
   "source": [
    "# The crosstab() function is used to compute a simple cross tabulation of two (or more) factors\n"
   ]
  },
  {
   "cell_type": "code",
   "execution_count": 20,
   "id": "e605a082",
   "metadata": {},
   "outputs": [
    {
     "data": {
      "text/html": [
       "<div>\n",
       "<style scoped>\n",
       "    .dataframe tbody tr th:only-of-type {\n",
       "        vertical-align: middle;\n",
       "    }\n",
       "\n",
       "    .dataframe tbody tr th {\n",
       "        vertical-align: top;\n",
       "    }\n",
       "\n",
       "    .dataframe thead th {\n",
       "        text-align: right;\n",
       "    }\n",
       "</style>\n",
       "<table border=\"1\" class=\"dataframe\">\n",
       "  <thead>\n",
       "    <tr style=\"text-align: right;\">\n",
       "      <th>partner_active</th>\n",
       "      <th>False</th>\n",
       "      <th>True</th>\n",
       "    </tr>\n",
       "    <tr>\n",
       "      <th>partner</th>\n",
       "      <th></th>\n",
       "      <th></th>\n",
       "    </tr>\n",
       "  </thead>\n",
       "  <tbody>\n",
       "    <tr>\n",
       "      <th>False</th>\n",
       "      <td>1194</td>\n",
       "      <td>0</td>\n",
       "    </tr>\n",
       "    <tr>\n",
       "      <th>True</th>\n",
       "      <td>1123</td>\n",
       "      <td>683</td>\n",
       "    </tr>\n",
       "  </tbody>\n",
       "</table>\n",
       "</div>"
      ],
      "text/plain": [
       "partner_active  False  True\n",
       "partner                    \n",
       "False            1194     0\n",
       "True             1123   683"
      ]
     },
     "execution_count": 20,
     "metadata": {},
     "output_type": "execute_result"
    }
   ],
   "source": [
    "# The crosstab() function is used to compute a simple cross tabulation of two (or more) factors\n",
    "# By performing cross-tabulation on the active and inactive partners, we can see that some of the videos have inactive partners.\n",
    "pd.crosstab(meta_train.partner,meta_train.partner_active)"
   ]
  },
  {
   "cell_type": "code",
   "execution_count": 21,
   "id": "84e7f75e",
   "metadata": {},
   "outputs": [
    {
     "data": {
      "text/plain": [
       "views        1.000000\n",
       "n_likes      0.288940\n",
       "language     0.105701\n",
       "ratio        0.102332\n",
       "n_tags       0.081795\n",
       "duration     0.073680\n",
       "n_formats    0.034488\n",
       "hour        -0.014262\n",
       "dayofweek   -0.022092\n",
       "Name: views, dtype: float64"
      ]
     },
     "execution_count": 21,
     "metadata": {},
     "output_type": "execute_result"
    }
   ],
   "source": [
    "# correlations between numerical variable\n",
    "# n_likes, language, and ratio have high correlation with our views variable.\n",
    "corr_df=meta_train[['views', 'ratio', 'duration', 'language', 'n_likes', 'n_tags','n_formats', 'dayofweek', 'hour']]\n",
    "sort_corr=corr_df.corr().sort_values('views',ascending=False).index\n",
    "corr_df.corr()[sort_corr].iloc[0]"
   ]
  },
  {
   "cell_type": "markdown",
   "id": "46ffea38",
   "metadata": {},
   "source": [
    "# Data Preprocessing"
   ]
  },
  {
   "cell_type": "code",
   "execution_count": 22,
   "id": "558edd89",
   "metadata": {},
   "outputs": [],
   "source": [
    "#Applying one_hot encoding\n",
    "#pandas has a nifty function called get_dummies() which convert categorical variables into dummy variables\n",
    "embed=pd.get_dummies(meta_train.embed,prefix='embed')\n",
    "language=pd.get_dummies(meta_train['language'],prefix='language')\n",
    "partner=pd.get_dummies(meta_train.partner,prefix='partner')\n",
    "partner_active=pd.get_dummies(meta_train.partner_active,prefix='partner_a')\n",
    "weekday=pd.get_dummies(meta_train.dayofweek,prefix='day')\n",
    "# weekday[‘day_6’] was set to 0 because the data was missing day 6 (Friday)\n",
    "weekday['day_6']=0"
   ]
  },
  {
   "cell_type": "code",
   "execution_count": 23,
   "id": "26b807d8",
   "metadata": {},
   "outputs": [],
   "source": [
    "# cyclical feature encoding\n",
    "# transform feature such as time,weeks,months or season, and still preserve their cyclical significance\n",
    "sine_hour=np.sin(2*np.pi*meta_train['hour']/24.0)\n",
    "sine_hour.name='sine_hour'\n",
    "cos_hour=np.cos(2*np.pi*meta_train['hour']/24.0)\n",
    "cos_hour.name='cos_hour'"
   ]
  },
  {
   "cell_type": "code",
   "execution_count": 24,
   "id": "c93742a5",
   "metadata": {
    "scrolled": true
   },
   "outputs": [
    {
     "data": {
      "text/html": [
       "<div>\n",
       "<style scoped>\n",
       "    .dataframe tbody tr th:only-of-type {\n",
       "        vertical-align: middle;\n",
       "    }\n",
       "\n",
       "    .dataframe tbody tr th {\n",
       "        vertical-align: top;\n",
       "    }\n",
       "\n",
       "    .dataframe thead th {\n",
       "        text-align: right;\n",
       "    }\n",
       "</style>\n",
       "<table border=\"1\" class=\"dataframe\">\n",
       "  <thead>\n",
       "    <tr style=\"text-align: right;\">\n",
       "      <th></th>\n",
       "      <th>comp_id</th>\n",
       "      <th>views</th>\n",
       "      <th>ratio</th>\n",
       "      <th>language</th>\n",
       "      <th>n_likes</th>\n",
       "      <th>duration</th>\n",
       "      <th>embed_False</th>\n",
       "      <th>embed_True</th>\n",
       "      <th>partner_False</th>\n",
       "      <th>partner_True</th>\n",
       "      <th>...</th>\n",
       "      <th>language_10</th>\n",
       "      <th>day_1</th>\n",
       "      <th>day_2</th>\n",
       "      <th>day_3</th>\n",
       "      <th>day_4</th>\n",
       "      <th>day_5</th>\n",
       "      <th>day_7</th>\n",
       "      <th>day_6</th>\n",
       "      <th>sine_hour</th>\n",
       "      <th>cos_hour</th>\n",
       "    </tr>\n",
       "  </thead>\n",
       "  <tbody>\n",
       "    <tr>\n",
       "      <th>0</th>\n",
       "      <td>1</td>\n",
       "      <td>290</td>\n",
       "      <td>1.77778</td>\n",
       "      <td>3</td>\n",
       "      <td>0</td>\n",
       "      <td>86</td>\n",
       "      <td>0</td>\n",
       "      <td>1</td>\n",
       "      <td>0</td>\n",
       "      <td>1</td>\n",
       "      <td>...</td>\n",
       "      <td>0</td>\n",
       "      <td>0</td>\n",
       "      <td>0</td>\n",
       "      <td>0</td>\n",
       "      <td>0</td>\n",
       "      <td>1</td>\n",
       "      <td>0</td>\n",
       "      <td>0</td>\n",
       "      <td>1.0</td>\n",
       "      <td>6.123234e-17</td>\n",
       "    </tr>\n",
       "    <tr>\n",
       "      <th>1</th>\n",
       "      <td>2</td>\n",
       "      <td>1443</td>\n",
       "      <td>1.33333</td>\n",
       "      <td>2</td>\n",
       "      <td>0</td>\n",
       "      <td>1129</td>\n",
       "      <td>0</td>\n",
       "      <td>1</td>\n",
       "      <td>0</td>\n",
       "      <td>1</td>\n",
       "      <td>...</td>\n",
       "      <td>0</td>\n",
       "      <td>0</td>\n",
       "      <td>0</td>\n",
       "      <td>0</td>\n",
       "      <td>0</td>\n",
       "      <td>1</td>\n",
       "      <td>0</td>\n",
       "      <td>0</td>\n",
       "      <td>1.0</td>\n",
       "      <td>6.123234e-17</td>\n",
       "    </tr>\n",
       "    <tr>\n",
       "      <th>2</th>\n",
       "      <td>3</td>\n",
       "      <td>329</td>\n",
       "      <td>1.76667</td>\n",
       "      <td>2</td>\n",
       "      <td>0</td>\n",
       "      <td>1163</td>\n",
       "      <td>0</td>\n",
       "      <td>1</td>\n",
       "      <td>0</td>\n",
       "      <td>1</td>\n",
       "      <td>...</td>\n",
       "      <td>0</td>\n",
       "      <td>0</td>\n",
       "      <td>0</td>\n",
       "      <td>0</td>\n",
       "      <td>0</td>\n",
       "      <td>1</td>\n",
       "      <td>0</td>\n",
       "      <td>0</td>\n",
       "      <td>1.0</td>\n",
       "      <td>6.123234e-17</td>\n",
       "    </tr>\n",
       "    <tr>\n",
       "      <th>3</th>\n",
       "      <td>4</td>\n",
       "      <td>63</td>\n",
       "      <td>1.77778</td>\n",
       "      <td>2</td>\n",
       "      <td>0</td>\n",
       "      <td>1326</td>\n",
       "      <td>0</td>\n",
       "      <td>1</td>\n",
       "      <td>0</td>\n",
       "      <td>1</td>\n",
       "      <td>...</td>\n",
       "      <td>0</td>\n",
       "      <td>0</td>\n",
       "      <td>0</td>\n",
       "      <td>0</td>\n",
       "      <td>0</td>\n",
       "      <td>1</td>\n",
       "      <td>0</td>\n",
       "      <td>0</td>\n",
       "      <td>1.0</td>\n",
       "      <td>6.123234e-17</td>\n",
       "    </tr>\n",
       "    <tr>\n",
       "      <th>4</th>\n",
       "      <td>5</td>\n",
       "      <td>37</td>\n",
       "      <td>1.77273</td>\n",
       "      <td>2</td>\n",
       "      <td>3</td>\n",
       "      <td>2612</td>\n",
       "      <td>0</td>\n",
       "      <td>1</td>\n",
       "      <td>0</td>\n",
       "      <td>1</td>\n",
       "      <td>...</td>\n",
       "      <td>0</td>\n",
       "      <td>0</td>\n",
       "      <td>0</td>\n",
       "      <td>0</td>\n",
       "      <td>0</td>\n",
       "      <td>1</td>\n",
       "      <td>0</td>\n",
       "      <td>0</td>\n",
       "      <td>1.0</td>\n",
       "      <td>6.123234e-17</td>\n",
       "    </tr>\n",
       "  </tbody>\n",
       "</table>\n",
       "<p>5 rows × 31 columns</p>\n",
       "</div>"
      ],
      "text/plain": [
       "   comp_id  views    ratio  language  n_likes  duration  embed_False  \\\n",
       "0        1    290  1.77778         3        0        86            0   \n",
       "1        2   1443  1.33333         2        0      1129            0   \n",
       "2        3    329  1.76667         2        0      1163            0   \n",
       "3        4     63  1.77778         2        0      1326            0   \n",
       "4        5     37  1.77273         2        3      2612            0   \n",
       "\n",
       "   embed_True  partner_False  partner_True  ...  language_10  day_1  day_2  \\\n",
       "0           1              0             1  ...            0      0      0   \n",
       "1           1              0             1  ...            0      0      0   \n",
       "2           1              0             1  ...            0      0      0   \n",
       "3           1              0             1  ...            0      0      0   \n",
       "4           1              0             1  ...            0      0      0   \n",
       "\n",
       "   day_3  day_4  day_5  day_7  day_6  sine_hour      cos_hour  \n",
       "0      0      0      1      0      0        1.0  6.123234e-17  \n",
       "1      0      0      1      0      0        1.0  6.123234e-17  \n",
       "2      0      0      1      0      0        1.0  6.123234e-17  \n",
       "3      0      0      1      0      0        1.0  6.123234e-17  \n",
       "4      0      0      1      0      0        1.0  6.123234e-17  \n",
       "\n",
       "[5 rows x 31 columns]"
      ]
     },
     "execution_count": 24,
     "metadata": {},
     "output_type": "execute_result"
    }
   ],
   "source": [
    "# join all dataframe\n",
    "meta_train_df=pd.concat([meta_train[['comp_id', 'views', 'ratio', 'language', 'n_likes', 'duration']].reset_index(drop=True),embed, partner, partner_active, language, weekday, sine_hour, cos_hour],axis=1)\n",
    "meta_train_df.head()"
   ]
  },
  {
   "cell_type": "code",
   "execution_count": 25,
   "id": "4c773b31",
   "metadata": {},
   "outputs": [
    {
     "data": {
      "text/plain": [
       "(3000, 31)"
      ]
     },
     "execution_count": 25,
     "metadata": {},
     "output_type": "execute_result"
    }
   ],
   "source": [
    "meta_train_df.shape"
   ]
  },
  {
   "cell_type": "markdown",
   "id": "4500c982",
   "metadata": {},
   "source": [
    "## Lasso Regression"
   ]
  },
  {
   "cell_type": "code",
   "execution_count": 26,
   "id": "ec94d372",
   "metadata": {},
   "outputs": [],
   "source": [
    "#set independent(x) and dependent(y) variable from image data \n",
    "y=meta_train['views']\n",
    "x = image_train.loc[:, image_train.columns != 'comp_id']\n",
    "# x=image_train.loc[:,1:]"
   ]
  },
  {
   "cell_type": "code",
   "execution_count": 27,
   "id": "b0495b44",
   "metadata": {},
   "outputs": [],
   "source": [
    "from sklearn.feature_selection import SelectFromModel\n",
    "from sklearn.linear_model import LogisticRegression\n",
    "import collections\n",
    "\n",
    "sel_model = SelectFromModel(LogisticRegression(C=1, penalty='l1', solver='liblinear')).fit(x,y)"
   ]
  },
  {
   "cell_type": "code",
   "execution_count": 28,
   "id": "0cdc5b59",
   "metadata": {},
   "outputs": [
    {
     "data": {
      "text/plain": [
       "Counter({True: 1258, False: 2742})"
      ]
     },
     "execution_count": 28,
     "metadata": {},
     "output_type": "execute_result"
    }
   ],
   "source": [
    "# get index of good features\n",
    "sel_index = sel_model.get_support()\n",
    "\n",
    "# count the no of columns selected\n",
    "counter = collections.Counter(sel_model.get_support())\n",
    "counter"
   ]
  },
  {
   "cell_type": "code",
   "execution_count": 29,
   "id": "2698f6aa",
   "metadata": {
    "scrolled": true
   },
   "outputs": [
    {
     "data": {
      "text/html": [
       "<div>\n",
       "<style scoped>\n",
       "    .dataframe tbody tr th:only-of-type {\n",
       "        vertical-align: middle;\n",
       "    }\n",
       "\n",
       "    .dataframe tbody tr th {\n",
       "        vertical-align: top;\n",
       "    }\n",
       "\n",
       "    .dataframe thead th {\n",
       "        text-align: right;\n",
       "    }\n",
       "</style>\n",
       "<table border=\"1\" class=\"dataframe\">\n",
       "  <thead>\n",
       "    <tr style=\"text-align: right;\">\n",
       "      <th></th>\n",
       "      <th>comp_id</th>\n",
       "      <th>image_1</th>\n",
       "      <th>image_3</th>\n",
       "      <th>image_4</th>\n",
       "      <th>image_11</th>\n",
       "      <th>image_15</th>\n",
       "      <th>image_17</th>\n",
       "      <th>image_20</th>\n",
       "      <th>image_24</th>\n",
       "      <th>image_26</th>\n",
       "      <th>...</th>\n",
       "      <th>image_3959</th>\n",
       "      <th>image_3960</th>\n",
       "      <th>image_3962</th>\n",
       "      <th>image_3966</th>\n",
       "      <th>image_3968</th>\n",
       "      <th>image_3973</th>\n",
       "      <th>image_3974</th>\n",
       "      <th>image_3977</th>\n",
       "      <th>image_3984</th>\n",
       "      <th>image_3990</th>\n",
       "    </tr>\n",
       "  </thead>\n",
       "  <tbody>\n",
       "    <tr>\n",
       "      <th>0</th>\n",
       "      <td>1</td>\n",
       "      <td>0.484456</td>\n",
       "      <td>-0.149328</td>\n",
       "      <td>0.144475</td>\n",
       "      <td>0.780332</td>\n",
       "      <td>-1.193367</td>\n",
       "      <td>0.359643</td>\n",
       "      <td>0.201758</td>\n",
       "      <td>0.392215</td>\n",
       "      <td>0.049990</td>\n",
       "      <td>...</td>\n",
       "      <td>-0.506946</td>\n",
       "      <td>-0.162883</td>\n",
       "      <td>-1.364837</td>\n",
       "      <td>-0.781976</td>\n",
       "      <td>-3.690247</td>\n",
       "      <td>1.522198</td>\n",
       "      <td>-0.606094</td>\n",
       "      <td>0.658431</td>\n",
       "      <td>-0.604360</td>\n",
       "      <td>0.111028</td>\n",
       "    </tr>\n",
       "    <tr>\n",
       "      <th>1</th>\n",
       "      <td>2</td>\n",
       "      <td>0.074533</td>\n",
       "      <td>-0.016286</td>\n",
       "      <td>-0.480964</td>\n",
       "      <td>0.410953</td>\n",
       "      <td>0.797866</td>\n",
       "      <td>-0.103046</td>\n",
       "      <td>-0.820352</td>\n",
       "      <td>-0.237525</td>\n",
       "      <td>-0.127445</td>\n",
       "      <td>...</td>\n",
       "      <td>1.284343</td>\n",
       "      <td>0.019412</td>\n",
       "      <td>0.406546</td>\n",
       "      <td>-0.552040</td>\n",
       "      <td>0.225877</td>\n",
       "      <td>1.708743</td>\n",
       "      <td>-0.204869</td>\n",
       "      <td>-0.510086</td>\n",
       "      <td>0.410483</td>\n",
       "      <td>-0.102448</td>\n",
       "    </tr>\n",
       "    <tr>\n",
       "      <th>2</th>\n",
       "      <td>3</td>\n",
       "      <td>-0.396809</td>\n",
       "      <td>-1.723037</td>\n",
       "      <td>0.666147</td>\n",
       "      <td>-0.006978</td>\n",
       "      <td>-1.849174</td>\n",
       "      <td>-0.451063</td>\n",
       "      <td>-0.669081</td>\n",
       "      <td>0.824120</td>\n",
       "      <td>0.288842</td>\n",
       "      <td>...</td>\n",
       "      <td>-0.249109</td>\n",
       "      <td>-0.389832</td>\n",
       "      <td>1.867043</td>\n",
       "      <td>1.650881</td>\n",
       "      <td>2.086596</td>\n",
       "      <td>-1.253300</td>\n",
       "      <td>-0.229919</td>\n",
       "      <td>-0.377193</td>\n",
       "      <td>0.605521</td>\n",
       "      <td>-0.384109</td>\n",
       "    </tr>\n",
       "    <tr>\n",
       "      <th>3</th>\n",
       "      <td>4</td>\n",
       "      <td>0.995316</td>\n",
       "      <td>0.387472</td>\n",
       "      <td>-0.684791</td>\n",
       "      <td>-0.356708</td>\n",
       "      <td>0.807046</td>\n",
       "      <td>0.111972</td>\n",
       "      <td>0.294054</td>\n",
       "      <td>5.531464</td>\n",
       "      <td>0.550411</td>\n",
       "      <td>...</td>\n",
       "      <td>1.032519</td>\n",
       "      <td>-0.087203</td>\n",
       "      <td>-1.364425</td>\n",
       "      <td>-0.414214</td>\n",
       "      <td>-2.780271</td>\n",
       "      <td>-0.199446</td>\n",
       "      <td>-0.387944</td>\n",
       "      <td>1.334685</td>\n",
       "      <td>0.869679</td>\n",
       "      <td>0.302376</td>\n",
       "    </tr>\n",
       "    <tr>\n",
       "      <th>4</th>\n",
       "      <td>5</td>\n",
       "      <td>-0.611648</td>\n",
       "      <td>-0.572393</td>\n",
       "      <td>0.894287</td>\n",
       "      <td>-0.260793</td>\n",
       "      <td>-0.219198</td>\n",
       "      <td>1.063709</td>\n",
       "      <td>0.717563</td>\n",
       "      <td>1.603678</td>\n",
       "      <td>-0.398335</td>\n",
       "      <td>...</td>\n",
       "      <td>-0.082778</td>\n",
       "      <td>-0.765341</td>\n",
       "      <td>0.282487</td>\n",
       "      <td>-0.020776</td>\n",
       "      <td>2.269820</td>\n",
       "      <td>0.469091</td>\n",
       "      <td>1.325833</td>\n",
       "      <td>-0.016011</td>\n",
       "      <td>0.467325</td>\n",
       "      <td>-0.171552</td>\n",
       "    </tr>\n",
       "  </tbody>\n",
       "</table>\n",
       "<p>5 rows × 1259 columns</p>\n",
       "</div>"
      ],
      "text/plain": [
       "   comp_id   image_1   image_3   image_4  image_11  image_15  image_17  \\\n",
       "0        1  0.484456 -0.149328  0.144475  0.780332 -1.193367  0.359643   \n",
       "1        2  0.074533 -0.016286 -0.480964  0.410953  0.797866 -0.103046   \n",
       "2        3 -0.396809 -1.723037  0.666147 -0.006978 -1.849174 -0.451063   \n",
       "3        4  0.995316  0.387472 -0.684791 -0.356708  0.807046  0.111972   \n",
       "4        5 -0.611648 -0.572393  0.894287 -0.260793 -0.219198  1.063709   \n",
       "\n",
       "   image_20  image_24  image_26  ...  image_3959  image_3960  image_3962  \\\n",
       "0  0.201758  0.392215  0.049990  ...   -0.506946   -0.162883   -1.364837   \n",
       "1 -0.820352 -0.237525 -0.127445  ...    1.284343    0.019412    0.406546   \n",
       "2 -0.669081  0.824120  0.288842  ...   -0.249109   -0.389832    1.867043   \n",
       "3  0.294054  5.531464  0.550411  ...    1.032519   -0.087203   -1.364425   \n",
       "4  0.717563  1.603678 -0.398335  ...   -0.082778   -0.765341    0.282487   \n",
       "\n",
       "   image_3966  image_3968  image_3973  image_3974  image_3977  image_3984  \\\n",
       "0   -0.781976   -3.690247    1.522198   -0.606094    0.658431   -0.604360   \n",
       "1   -0.552040    0.225877    1.708743   -0.204869   -0.510086    0.410483   \n",
       "2    1.650881    2.086596   -1.253300   -0.229919   -0.377193    0.605521   \n",
       "3   -0.414214   -2.780271   -0.199446   -0.387944    1.334685    0.869679   \n",
       "4   -0.020776    2.269820    0.469091    1.325833   -0.016011    0.467325   \n",
       "\n",
       "   image_3990  \n",
       "0    0.111028  \n",
       "1   -0.102448  \n",
       "2   -0.384109  \n",
       "3    0.302376  \n",
       "4   -0.171552  \n",
       "\n",
       "[5 rows x 1259 columns]"
      ]
     },
     "execution_count": 29,
     "metadata": {},
     "output_type": "execute_result"
    }
   ],
   "source": [
    "image_index_df = pd.DataFrame(x[x.columns[(sel_index)]])\n",
    "image_final_df = pd.concat([image_train[['comp_id']], image_index_df], axis=1)\n",
    "image_final_df.head()"
   ]
  },
  {
   "cell_type": "code",
   "execution_count": 30,
   "id": "2376aa93",
   "metadata": {},
   "outputs": [
    {
     "data": {
      "text/plain": [
       "(3000, 1389)"
      ]
     },
     "execution_count": 30,
     "metadata": {},
     "output_type": "execute_result"
    }
   ],
   "source": [
    "#Merge everything into one dataframe\n",
    "final_df=pd.merge(pd.merge(meta_train_df,image_final_df,on='comp_id'),pd.merge(desc_train,title_train,on='comp_id'),on='comp_id')\n",
    "final_df.shape"
   ]
  },
  {
   "cell_type": "markdown",
   "id": "a65ea717",
   "metadata": {},
   "source": [
    "## Preprocessing on Public/Test Data"
   ]
  },
  {
   "cell_type": "code",
   "execution_count": 31,
   "id": "594439f5",
   "metadata": {},
   "outputs": [],
   "source": [
    "# Test set\n",
    "p_embed = pd.get_dummies(meta_test.embed, prefix ='embed')\n",
    "p_partner = pd.get_dummies(meta_test.partner, prefix ='partner')\n",
    "p_partner_active = pd.get_dummies(meta_test.partner_active, prefix ='partner_a')\n",
    "p_language = pd.get_dummies(meta_test['language'], prefix='language')\n",
    "p_language['language_6'] = 0\n",
    "p_weekday = pd.get_dummies(meta_test['dayofweek'], prefix='day')\n",
    "p_weekday['day_3'] = 0\n",
    "p_weekday['day_4'] = 0\n",
    "p_weekday['day_5'] = 0"
   ]
  },
  {
   "cell_type": "code",
   "execution_count": 32,
   "id": "5b47354f",
   "metadata": {},
   "outputs": [],
   "source": [
    "## Cyclical encoding \n",
    "p_sin_hour = np.sin(2*np.pi*meta_test['hour']/24.0)\n",
    "p_sin_hour.name = 'sin_hour'\n",
    "p_cos_hour = np.cos(2*np.pi*meta_test['hour']/24.0)\n",
    "p_cos_hour.name = 'cos_hour'"
   ]
  },
  {
   "cell_type": "code",
   "execution_count": 33,
   "id": "6692cd20",
   "metadata": {},
   "outputs": [
    {
     "data": {
      "text/plain": [
       "(986, 1388)"
      ]
     },
     "execution_count": 33,
     "metadata": {},
     "output_type": "execute_result"
    }
   ],
   "source": [
    "# Join all dataframes.\n",
    "p_meta_final_df = pd.concat([meta_test[['comp_id', 'ratio', 'language', 'n_likes', 'duration']].reset_index(drop=True),\n",
    "                             p_embed, p_partner, p_partner_active, p_language, p_weekday, p_sin_hour, p_cos_hour], axis=1)\n",
    "p_meta_final_df.head()\n",
    "\n",
    "# subset our test image dataframe with index used on training set\n",
    "p_image_final_df = pd.concat([image_test[['comp_id']], image_index_df], axis=1)\n",
    "\n",
    "# Merge all test set tables.\n",
    "p_final_df = pd.merge(pd.merge(p_meta_final_df, p_image_final_df, on = 'comp_id'), \n",
    "                    pd.merge(desc_test, title_test, on = 'comp_id'), on = 'comp_id')\n",
    "p_final_df.shape"
   ]
  },
  {
   "cell_type": "markdown",
   "id": "e2709ba7",
   "metadata": {},
   "source": [
    "# Building the XGBoost Model"
   ]
  },
  {
   "cell_type": "markdown",
   "id": "3ef76f7d",
   "metadata": {},
   "source": [
    "## Train_test_split"
   ]
  },
  {
   "cell_type": "code",
   "execution_count": 34,
   "id": "31fc4b23",
   "metadata": {},
   "outputs": [
    {
     "name": "stdout",
     "output_type": "stream",
     "text": [
      "Training set shape  (2250, 1387)\n",
      "Test set shape  (750, 1387)\n"
     ]
    }
   ],
   "source": [
    "# Convert dataframe to numpy array.\n",
    "from sklearn.model_selection import train_test_split\n",
    "X = final_df.drop(['comp_id', 'views'], axis=1).to_numpy()\n",
    "y = final_df.loc[:, 'views'].to_numpy()\n",
    "\n",
    "# Train-Test Split\n",
    "X_train, X_test, y_train, y_test = train_test_split(X, y, test_size = 0.25, random_state = 121)\n",
    "print('Training set shape ', X_train.shape)\n",
    "print('Test set shape ', X_test.shape)"
   ]
  },
  {
   "cell_type": "markdown",
   "id": "238f05f2",
   "metadata": {},
   "source": [
    "## Data Matrix"
   ]
  },
  {
   "cell_type": "code",
   "execution_count": 35,
   "id": "b4a39968",
   "metadata": {},
   "outputs": [],
   "source": [
    "import xgboost as xgb\n",
    "trlabel = y_train\n",
    "telabel = y_test\n",
    "\n",
    "dtrain = xgb.DMatrix(X_train, label=trlabel)\n",
    "dtest  = xgb.DMatrix(X_test, label=telabel)"
   ]
  },
  {
   "cell_type": "markdown",
   "id": "38e50d61",
   "metadata": {},
   "source": [
    "## Setting Parameters"
   ]
  },
  {
   "cell_type": "code",
   "execution_count": 36,
   "id": "9ac3e211",
   "metadata": {},
   "outputs": [],
   "source": [
    "# Set parameters.\n",
    "param = {'max_depth': 7, \n",
    "         'eta': 0.2,\n",
    "         'objective': 'reg:squarederror',\n",
    "         'nthread': 5,\n",
    "         'eval_metric': 'rmse'\n",
    "        }\n",
    "\n",
    "evallist = [(dtest, 'eval'), (dtrain, 'train')]"
   ]
  },
  {
   "cell_type": "markdown",
   "id": "b79066f3",
   "metadata": {},
   "source": [
    "## Train the Model "
   ]
  },
  {
   "cell_type": "code",
   "execution_count": 37,
   "id": "8031008d",
   "metadata": {},
   "outputs": [
    {
     "name": "stderr",
     "output_type": "stream",
     "text": [
      "c:\\users\\sohaib mallick\\appdata\\local\\programs\\python\\python39\\lib\\site-packages\\xgboost\\core.py:525: FutureWarning: Pass `evals` as keyword args.  Passing these as positional arguments will be considered as error in future releases.\n",
      "  warnings.warn(\n"
     ]
    },
    {
     "name": "stdout",
     "output_type": "stream",
     "text": [
      "[0]\teval-rmse:1279.22931\ttrain-rmse:1179.15720\n",
      "[1]\teval-rmse:1218.13083\ttrain-rmse:1059.67359\n",
      "[2]\teval-rmse:1172.40929\ttrain-rmse:978.23351\n",
      "[3]\teval-rmse:1140.65271\ttrain-rmse:903.75660\n",
      "[4]\teval-rmse:1124.44459\ttrain-rmse:839.02807\n",
      "[5]\teval-rmse:1114.60184\ttrain-rmse:790.45812\n",
      "[6]\teval-rmse:1110.07399\ttrain-rmse:732.67136\n",
      "[7]\teval-rmse:1108.60729\ttrain-rmse:708.46324\n",
      "[8]\teval-rmse:1106.16350\ttrain-rmse:665.92928\n",
      "[9]\teval-rmse:1106.55443\ttrain-rmse:623.15604\n",
      "[10]\teval-rmse:1108.17412\ttrain-rmse:597.59315\n",
      "[11]\teval-rmse:1113.57521\ttrain-rmse:551.72190\n",
      "[12]\teval-rmse:1112.89227\ttrain-rmse:523.34671\n",
      "[13]\teval-rmse:1114.02325\ttrain-rmse:496.56929\n",
      "[14]\teval-rmse:1113.88507\ttrain-rmse:474.41381\n",
      "[15]\teval-rmse:1116.72149\ttrain-rmse:452.05153\n",
      "[16]\teval-rmse:1117.76555\ttrain-rmse:433.11961\n",
      "[17]\teval-rmse:1121.39848\ttrain-rmse:409.37055\n",
      "[18]\teval-rmse:1125.53210\ttrain-rmse:384.55627\n",
      "[19]\teval-rmse:1126.20682\ttrain-rmse:370.51728\n",
      "[20]\teval-rmse:1128.61825\ttrain-rmse:360.73712\n",
      "[21]\teval-rmse:1129.79941\ttrain-rmse:341.25278\n",
      "[22]\teval-rmse:1131.02281\ttrain-rmse:323.17880\n",
      "[23]\teval-rmse:1133.27742\ttrain-rmse:302.84316\n",
      "[24]\teval-rmse:1131.88068\ttrain-rmse:282.72227\n",
      "[25]\teval-rmse:1132.64381\ttrain-rmse:267.13508\n",
      "[26]\teval-rmse:1131.24645\ttrain-rmse:255.65907\n",
      "[27]\teval-rmse:1128.93594\ttrain-rmse:235.79530\n",
      "[28]\teval-rmse:1130.00791\ttrain-rmse:223.75713\n",
      "[29]\teval-rmse:1126.44309\ttrain-rmse:211.76997\n",
      "[30]\teval-rmse:1126.72309\ttrain-rmse:200.73353\n",
      "[31]\teval-rmse:1128.49172\ttrain-rmse:193.19354\n",
      "[32]\teval-rmse:1129.49318\ttrain-rmse:183.05816\n",
      "[33]\teval-rmse:1129.81805\ttrain-rmse:175.92483\n",
      "[34]\teval-rmse:1130.93627\ttrain-rmse:166.82521\n",
      "[35]\teval-rmse:1129.61605\ttrain-rmse:160.70497\n",
      "[36]\teval-rmse:1129.57923\ttrain-rmse:149.72725\n",
      "[37]\teval-rmse:1129.22485\ttrain-rmse:144.63430\n",
      "[38]\teval-rmse:1129.82528\ttrain-rmse:134.27449\n",
      "[39]\teval-rmse:1129.52173\ttrain-rmse:123.79333\n",
      "[40]\teval-rmse:1130.04745\ttrain-rmse:115.99227\n",
      "[41]\teval-rmse:1130.17202\ttrain-rmse:109.26652\n",
      "[42]\teval-rmse:1130.28911\ttrain-rmse:103.81698\n",
      "[43]\teval-rmse:1129.61841\ttrain-rmse:100.93132\n",
      "[44]\teval-rmse:1129.85831\ttrain-rmse:93.84478\n",
      "[45]\teval-rmse:1129.49686\ttrain-rmse:89.28099\n",
      "[46]\teval-rmse:1129.57158\ttrain-rmse:87.14492\n",
      "[47]\teval-rmse:1129.54042\ttrain-rmse:82.42317\n",
      "[48]\teval-rmse:1129.42722\ttrain-rmse:79.71376\n",
      "[49]\teval-rmse:1129.73932\ttrain-rmse:76.46727\n",
      "[50]\teval-rmse:1129.72119\ttrain-rmse:72.79712\n",
      "[51]\teval-rmse:1129.67957\ttrain-rmse:68.82330\n",
      "[52]\teval-rmse:1129.62691\ttrain-rmse:65.32169\n",
      "[53]\teval-rmse:1129.85412\ttrain-rmse:62.09147\n",
      "[54]\teval-rmse:1129.89227\ttrain-rmse:58.34682\n",
      "[55]\teval-rmse:1129.66698\ttrain-rmse:55.62846\n",
      "[56]\teval-rmse:1129.63686\ttrain-rmse:52.83045\n",
      "[57]\teval-rmse:1129.33590\ttrain-rmse:48.86452\n",
      "[58]\teval-rmse:1129.20681\ttrain-rmse:46.81279\n",
      "[59]\teval-rmse:1129.11679\ttrain-rmse:44.70764\n",
      "[60]\teval-rmse:1129.23213\ttrain-rmse:41.60535\n",
      "[61]\teval-rmse:1129.24598\ttrain-rmse:40.32154\n",
      "[62]\teval-rmse:1128.99976\ttrain-rmse:37.39913\n",
      "[63]\teval-rmse:1129.27607\ttrain-rmse:34.85940\n",
      "[64]\teval-rmse:1129.56133\ttrain-rmse:32.74393\n",
      "[65]\teval-rmse:1129.70624\ttrain-rmse:30.95666\n",
      "[66]\teval-rmse:1129.72403\ttrain-rmse:29.02932\n",
      "[67]\teval-rmse:1129.84805\ttrain-rmse:27.05454\n",
      "[68]\teval-rmse:1129.66224\ttrain-rmse:24.65537\n",
      "[69]\teval-rmse:1129.37950\ttrain-rmse:23.20080\n"
     ]
    }
   ],
   "source": [
    "# Train the model.\n",
    "num_round = 70\n",
    "bst = xgb.train(param, dtrain, num_round, evallist)"
   ]
  },
  {
   "cell_type": "code",
   "execution_count": 38,
   "id": "833b6dc5",
   "metadata": {},
   "outputs": [
    {
     "name": "stdout",
     "output_type": "stream",
     "text": [
      "RMSE with XGBoost 1129.371014916415\n"
     ]
    }
   ],
   "source": [
    "# Make prediction.\n",
    "import math\n",
    "from sklearn.metrics import mean_squared_error\n",
    "\n",
    "ypred = bst.predict(dtest).round()\n",
    "\n",
    "# Compute RMSE on test set.\n",
    "mse_xgboost = mean_squared_error(y_test, ypred)\n",
    "rmse_xgboost = math.sqrt(mse_xgboost)\n",
    "\n",
    "print('RMSE with XGBoost', rmse_xgboost)"
   ]
  },
  {
   "cell_type": "markdown",
   "id": "40917d36",
   "metadata": {},
   "source": [
    "## Fit model to public data (test data)"
   ]
  },
  {
   "cell_type": "code",
   "execution_count": 42,
   "id": "29b2d33a",
   "metadata": {},
   "outputs": [],
   "source": [
    "d_public = xgb.DMatrix(p_final_df.loc[:, p_final_df.columns != 'comp_id'])\n",
    "solution = bst.predict(d_public).round()\n",
    "solution_df = pd.concat([p_final_df[['comp_id']], pd.DataFrame(solution, columns = ['views'])], axis=1)\n",
    "solution_df.to_csv('solution.csv', index=False)"
   ]
  },
  {
   "cell_type": "code",
   "execution_count": 43,
   "id": "06102296",
   "metadata": {},
   "outputs": [
    {
     "data": {
      "text/html": [
       "<div>\n",
       "<style scoped>\n",
       "    .dataframe tbody tr th:only-of-type {\n",
       "        vertical-align: middle;\n",
       "    }\n",
       "\n",
       "    .dataframe tbody tr th {\n",
       "        vertical-align: top;\n",
       "    }\n",
       "\n",
       "    .dataframe thead th {\n",
       "        text-align: right;\n",
       "    }\n",
       "</style>\n",
       "<table border=\"1\" class=\"dataframe\">\n",
       "  <thead>\n",
       "    <tr style=\"text-align: right;\">\n",
       "      <th></th>\n",
       "      <th>comp_id</th>\n",
       "      <th>views</th>\n",
       "    </tr>\n",
       "  </thead>\n",
       "  <tbody>\n",
       "    <tr>\n",
       "      <th>0</th>\n",
       "      <td>3001</td>\n",
       "      <td>246.0</td>\n",
       "    </tr>\n",
       "    <tr>\n",
       "      <th>1</th>\n",
       "      <td>3002</td>\n",
       "      <td>1441.0</td>\n",
       "    </tr>\n",
       "    <tr>\n",
       "      <th>2</th>\n",
       "      <td>3003</td>\n",
       "      <td>248.0</td>\n",
       "    </tr>\n",
       "    <tr>\n",
       "      <th>3</th>\n",
       "      <td>3004</td>\n",
       "      <td>1233.0</td>\n",
       "    </tr>\n",
       "    <tr>\n",
       "      <th>4</th>\n",
       "      <td>3005</td>\n",
       "      <td>105.0</td>\n",
       "    </tr>\n",
       "    <tr>\n",
       "      <th>...</th>\n",
       "      <td>...</td>\n",
       "      <td>...</td>\n",
       "    </tr>\n",
       "    <tr>\n",
       "      <th>981</th>\n",
       "      <td>3982</td>\n",
       "      <td>203.0</td>\n",
       "    </tr>\n",
       "    <tr>\n",
       "      <th>982</th>\n",
       "      <td>3983</td>\n",
       "      <td>149.0</td>\n",
       "    </tr>\n",
       "    <tr>\n",
       "      <th>983</th>\n",
       "      <td>3984</td>\n",
       "      <td>532.0</td>\n",
       "    </tr>\n",
       "    <tr>\n",
       "      <th>984</th>\n",
       "      <td>3985</td>\n",
       "      <td>193.0</td>\n",
       "    </tr>\n",
       "    <tr>\n",
       "      <th>985</th>\n",
       "      <td>3986</td>\n",
       "      <td>163.0</td>\n",
       "    </tr>\n",
       "  </tbody>\n",
       "</table>\n",
       "<p>986 rows × 2 columns</p>\n",
       "</div>"
      ],
      "text/plain": [
       "     comp_id   views\n",
       "0       3001   246.0\n",
       "1       3002  1441.0\n",
       "2       3003   248.0\n",
       "3       3004  1233.0\n",
       "4       3005   105.0\n",
       "..       ...     ...\n",
       "981     3982   203.0\n",
       "982     3983   149.0\n",
       "983     3984   532.0\n",
       "984     3985   193.0\n",
       "985     3986   163.0\n",
       "\n",
       "[986 rows x 2 columns]"
      ]
     },
     "execution_count": 43,
     "metadata": {},
     "output_type": "execute_result"
    }
   ],
   "source": [
    "solution_df"
   ]
  },
  {
   "cell_type": "code",
   "execution_count": null,
   "id": "0107875a",
   "metadata": {},
   "outputs": [],
   "source": []
  }
 ],
 "metadata": {
  "kernelspec": {
   "display_name": "Python 3 (ipykernel)",
   "language": "python",
   "name": "python3"
  },
  "language_info": {
   "codemirror_mode": {
    "name": "ipython",
    "version": 3
   },
   "file_extension": ".py",
   "mimetype": "text/x-python",
   "name": "python",
   "nbconvert_exporter": "python",
   "pygments_lexer": "ipython3",
   "version": "3.9.6"
  }
 },
 "nbformat": 4,
 "nbformat_minor": 5
}
